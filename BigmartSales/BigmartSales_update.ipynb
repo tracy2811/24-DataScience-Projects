{
  "nbformat": 4,
  "nbformat_minor": 0,
  "metadata": {
    "colab": {
      "name": "BigmartSales-update.ipynb",
      "version": "0.3.2",
      "provenance": [],
      "collapsed_sections": [
        "l5Td8eRJvwgs",
        "8NtUJbEZ9ExE",
        "SFREM0k5-jAO",
        "QzmtqtbOITMY",
        "cmg70-QjIYvx",
        "Y9wwXT6VJzEZ"
      ],
      "include_colab_link": true
    },
    "kernelspec": {
      "name": "python3",
      "display_name": "Python 3"
    }
  },
  "cells": [
    {
      "cell_type": "markdown",
      "metadata": {
        "id": "view-in-github",
        "colab_type": "text"
      },
      "source": [
        "<a href=\"https://colab.research.google.com/github/tracy2811/24-DataScience-Projects/blob/master/BigmartSales/BigmartSales_update.ipynb\" target=\"_parent\"><img src=\"https://colab.research.google.com/assets/colab-badge.svg\" alt=\"Open In Colab\"/></a>"
      ]
    },
    {
      "cell_type": "markdown",
      "metadata": {
        "id": "negp6TXsq91m",
        "colab_type": "text"
      },
      "source": [
        "# Big Mart Sales Prediction\n",
        "\n",
        "[Guide](https://www.analyticsvidhya.com/blog/2016/02/bigmart-sales-solution-top-20/)"
      ]
    },
    {
      "cell_type": "markdown",
      "metadata": {
        "id": "bTgYBvUIrgGd",
        "colab_type": "text"
      },
      "source": [
        "## Hypothesis Generation\n",
        "\n",
        "Understanding the problem better by brainstorming possible factors that can impact the outcome"
      ]
    },
    {
      "cell_type": "markdown",
      "metadata": {
        "id": "9iPEwTY9r0gb",
        "colab_type": "text"
      },
      "source": [
        "## Data Exploration\n",
        "\n",
        "Looking at categorical and continuous feature summaries and making inferences about the data"
      ]
    },
    {
      "cell_type": "markdown",
      "metadata": {
        "id": "l5Td8eRJvwgs",
        "colab_type": "text"
      },
      "source": [
        "### Import"
      ]
    },
    {
      "cell_type": "code",
      "metadata": {
        "id": "AZ3kX4Xbu5Ki",
        "colab_type": "code",
        "colab": {}
      },
      "source": [
        "import pandas as pd, numpy as np, seaborn as sns\n",
        "from sklearn.linear_model import LinearRegression, Ridge, Lasso\n",
        "from sklearn.tree import DecisionTreeRegressor\n",
        "from sklearn.ensemble import RandomForestRegressor\n",
        "import matplotlib.pyplot as plt\n",
        "plt.style.use('fivethirtyeight')\n",
        "%matplotlib inline"
      ],
      "execution_count": 0,
      "outputs": []
    },
    {
      "cell_type": "code",
      "metadata": {
        "id": "bqK0y9VxvJFb",
        "colab_type": "code",
        "outputId": "6e0d22df-50c8-407d-ed02-c2137f7f3beb",
        "colab": {
          "base_uri": "https://localhost:8080/",
          "height": 161
        }
      },
      "source": [
        "from google.colab import drive\n",
        "drive.mount('/content/drive')"
      ],
      "execution_count": 2,
      "outputs": [
        {
          "output_type": "stream",
          "text": [
            "Go to this URL in a browser: https://accounts.google.com/o/oauth2/auth?client_id=947318989803-6bn6qk8qdgf4n4g3pfee6491hc0brc4i.apps.googleusercontent.com&redirect_uri=urn%3Aietf%3Awg%3Aoauth%3A2.0%3Aoob&scope=email%20https%3A%2F%2Fwww.googleapis.com%2Fauth%2Fdocs.test%20https%3A%2F%2Fwww.googleapis.com%2Fauth%2Fdrive%20https%3A%2F%2Fwww.googleapis.com%2Fauth%2Fdrive.photos.readonly%20https%3A%2F%2Fwww.googleapis.com%2Fauth%2Fpeopleapi.readonly&response_type=code\n",
            "\n",
            "Enter your authorization code:\n",
            "··········\n",
            "Mounted at /content/drive\n"
          ],
          "name": "stdout"
        }
      ]
    },
    {
      "cell_type": "code",
      "metadata": {
        "id": "HX9u6hKAvRaH",
        "colab_type": "code",
        "outputId": "da4bb5c5-f3af-469e-9257-79debbe0a66c",
        "colab": {
          "base_uri": "https://localhost:8080/",
          "height": 42
        }
      },
      "source": [
        "cd /content/drive/My\\ Drive/Colab\\ Notebooks/BigmartSales"
      ],
      "execution_count": 3,
      "outputs": [
        {
          "output_type": "stream",
          "text": [
            "/content/drive/My Drive/Colab Notebooks/BigmartSales\n"
          ],
          "name": "stdout"
        }
      ]
    },
    {
      "cell_type": "markdown",
      "metadata": {
        "id": "NpqDeuUHv3AI",
        "colab_type": "text"
      },
      "source": [
        "### Read files"
      ]
    },
    {
      "cell_type": "code",
      "metadata": {
        "id": "CI4Lmi3Tv9aU",
        "colab_type": "code",
        "outputId": "ff365bc9-7cce-4a93-fd3a-a917658d3677",
        "colab": {
          "base_uri": "https://localhost:8080/",
          "height": 668
        }
      },
      "source": [
        "train = pd.read_csv('Train_UWu5bXk.csv')\n",
        "print(train.shape)\n",
        "\n",
        "test = pd.read_csv('Test_u94Q5KV.csv')\n",
        "print(test.shape)\n",
        "\n",
        "data=pd.concat([train,test],ignore_index=True, keys=['train', 'test'])\n",
        "print(data.shape)\n",
        "data.head()"
      ],
      "execution_count": 4,
      "outputs": [
        {
          "output_type": "stream",
          "text": [
            "(8523, 12)\n",
            "(5681, 11)\n",
            "(14204, 12)\n"
          ],
          "name": "stdout"
        },
        {
          "output_type": "stream",
          "text": [
            "/usr/local/lib/python3.6/dist-packages/ipykernel_launcher.py:7: FutureWarning: Sorting because non-concatenation axis is not aligned. A future version\n",
            "of pandas will change to not sort by default.\n",
            "\n",
            "To accept the future behavior, pass 'sort=False'.\n",
            "\n",
            "To retain the current behavior and silence the warning, pass 'sort=True'.\n",
            "\n",
            "  import sys\n"
          ],
          "name": "stderr"
        },
        {
          "output_type": "execute_result",
          "data": {
            "text/html": [
              "<div>\n",
              "<style scoped>\n",
              "    .dataframe tbody tr th:only-of-type {\n",
              "        vertical-align: middle;\n",
              "    }\n",
              "\n",
              "    .dataframe tbody tr th {\n",
              "        vertical-align: top;\n",
              "    }\n",
              "\n",
              "    .dataframe thead th {\n",
              "        text-align: right;\n",
              "    }\n",
              "</style>\n",
              "<table border=\"1\" class=\"dataframe\">\n",
              "  <thead>\n",
              "    <tr style=\"text-align: right;\">\n",
              "      <th></th>\n",
              "      <th>Item_Fat_Content</th>\n",
              "      <th>Item_Identifier</th>\n",
              "      <th>Item_MRP</th>\n",
              "      <th>Item_Outlet_Sales</th>\n",
              "      <th>Item_Type</th>\n",
              "      <th>Item_Visibility</th>\n",
              "      <th>Item_Weight</th>\n",
              "      <th>Outlet_Establishment_Year</th>\n",
              "      <th>Outlet_Identifier</th>\n",
              "      <th>Outlet_Location_Type</th>\n",
              "      <th>Outlet_Size</th>\n",
              "      <th>Outlet_Type</th>\n",
              "    </tr>\n",
              "  </thead>\n",
              "  <tbody>\n",
              "    <tr>\n",
              "      <th>0</th>\n",
              "      <td>Low Fat</td>\n",
              "      <td>FDA15</td>\n",
              "      <td>249.8092</td>\n",
              "      <td>3735.1380</td>\n",
              "      <td>Dairy</td>\n",
              "      <td>0.016047</td>\n",
              "      <td>9.30</td>\n",
              "      <td>1999</td>\n",
              "      <td>OUT049</td>\n",
              "      <td>Tier 1</td>\n",
              "      <td>Medium</td>\n",
              "      <td>Supermarket Type1</td>\n",
              "    </tr>\n",
              "    <tr>\n",
              "      <th>1</th>\n",
              "      <td>Regular</td>\n",
              "      <td>DRC01</td>\n",
              "      <td>48.2692</td>\n",
              "      <td>443.4228</td>\n",
              "      <td>Soft Drinks</td>\n",
              "      <td>0.019278</td>\n",
              "      <td>5.92</td>\n",
              "      <td>2009</td>\n",
              "      <td>OUT018</td>\n",
              "      <td>Tier 3</td>\n",
              "      <td>Medium</td>\n",
              "      <td>Supermarket Type2</td>\n",
              "    </tr>\n",
              "    <tr>\n",
              "      <th>2</th>\n",
              "      <td>Low Fat</td>\n",
              "      <td>FDN15</td>\n",
              "      <td>141.6180</td>\n",
              "      <td>2097.2700</td>\n",
              "      <td>Meat</td>\n",
              "      <td>0.016760</td>\n",
              "      <td>17.50</td>\n",
              "      <td>1999</td>\n",
              "      <td>OUT049</td>\n",
              "      <td>Tier 1</td>\n",
              "      <td>Medium</td>\n",
              "      <td>Supermarket Type1</td>\n",
              "    </tr>\n",
              "    <tr>\n",
              "      <th>3</th>\n",
              "      <td>Regular</td>\n",
              "      <td>FDX07</td>\n",
              "      <td>182.0950</td>\n",
              "      <td>732.3800</td>\n",
              "      <td>Fruits and Vegetables</td>\n",
              "      <td>0.000000</td>\n",
              "      <td>19.20</td>\n",
              "      <td>1998</td>\n",
              "      <td>OUT010</td>\n",
              "      <td>Tier 3</td>\n",
              "      <td>NaN</td>\n",
              "      <td>Grocery Store</td>\n",
              "    </tr>\n",
              "    <tr>\n",
              "      <th>4</th>\n",
              "      <td>Low Fat</td>\n",
              "      <td>NCD19</td>\n",
              "      <td>53.8614</td>\n",
              "      <td>994.7052</td>\n",
              "      <td>Household</td>\n",
              "      <td>0.000000</td>\n",
              "      <td>8.93</td>\n",
              "      <td>1987</td>\n",
              "      <td>OUT013</td>\n",
              "      <td>Tier 3</td>\n",
              "      <td>High</td>\n",
              "      <td>Supermarket Type1</td>\n",
              "    </tr>\n",
              "  </tbody>\n",
              "</table>\n",
              "</div>"
            ],
            "text/plain": [
              "  Item_Fat_Content Item_Identifier  ...  Outlet_Size        Outlet_Type\n",
              "0          Low Fat           FDA15  ...       Medium  Supermarket Type1\n",
              "1          Regular           DRC01  ...       Medium  Supermarket Type2\n",
              "2          Low Fat           FDN15  ...       Medium  Supermarket Type1\n",
              "3          Regular           FDX07  ...          NaN      Grocery Store\n",
              "4          Low Fat           NCD19  ...         High  Supermarket Type1\n",
              "\n",
              "[5 rows x 12 columns]"
            ]
          },
          "metadata": {
            "tags": []
          },
          "execution_count": 4
        }
      ]
    },
    {
      "cell_type": "markdown",
      "metadata": {
        "id": "8NtUJbEZ9ExE",
        "colab_type": "text"
      },
      "source": [
        "### Explore"
      ]
    },
    {
      "cell_type": "code",
      "metadata": {
        "id": "m7eeJxWK06CO",
        "colab_type": "code",
        "outputId": "2a03134c-7af3-44c9-fdde-62075023f1bb",
        "colab": {
          "base_uri": "https://localhost:8080/",
          "height": 339
        }
      },
      "source": [
        "data.isnull().sum()"
      ],
      "execution_count": 5,
      "outputs": [
        {
          "output_type": "execute_result",
          "data": {
            "text/plain": [
              "Item_Fat_Content                0\n",
              "Item_Identifier                 0\n",
              "Item_MRP                        0\n",
              "Item_Outlet_Sales            5681\n",
              "Item_Type                       0\n",
              "Item_Visibility                 0\n",
              "Item_Weight                  2439\n",
              "Outlet_Establishment_Year       0\n",
              "Outlet_Identifier               0\n",
              "Outlet_Location_Type            0\n",
              "Outlet_Size                  4016\n",
              "Outlet_Type                     0\n",
              "dtype: int64"
            ]
          },
          "metadata": {
            "tags": []
          },
          "execution_count": 5
        }
      ]
    },
    {
      "cell_type": "markdown",
      "metadata": {
        "id": "HfI79M0L9RkT",
        "colab_type": "text"
      },
      "source": [
        "`Item_Weight` and `Outlet_Size` have missing values."
      ]
    },
    {
      "cell_type": "code",
      "metadata": {
        "id": "6oYeaDaJ1RAh",
        "colab_type": "code",
        "outputId": "b05f1d83-2630-4e5e-dc21-26bab563fd80",
        "colab": {
          "base_uri": "https://localhost:8080/",
          "height": 367
        }
      },
      "source": [
        "data.describe()"
      ],
      "execution_count": 6,
      "outputs": [
        {
          "output_type": "execute_result",
          "data": {
            "text/html": [
              "<div>\n",
              "<style scoped>\n",
              "    .dataframe tbody tr th:only-of-type {\n",
              "        vertical-align: middle;\n",
              "    }\n",
              "\n",
              "    .dataframe tbody tr th {\n",
              "        vertical-align: top;\n",
              "    }\n",
              "\n",
              "    .dataframe thead th {\n",
              "        text-align: right;\n",
              "    }\n",
              "</style>\n",
              "<table border=\"1\" class=\"dataframe\">\n",
              "  <thead>\n",
              "    <tr style=\"text-align: right;\">\n",
              "      <th></th>\n",
              "      <th>Item_MRP</th>\n",
              "      <th>Item_Outlet_Sales</th>\n",
              "      <th>Item_Visibility</th>\n",
              "      <th>Item_Weight</th>\n",
              "      <th>Outlet_Establishment_Year</th>\n",
              "    </tr>\n",
              "  </thead>\n",
              "  <tbody>\n",
              "    <tr>\n",
              "      <th>count</th>\n",
              "      <td>14204.000000</td>\n",
              "      <td>8523.000000</td>\n",
              "      <td>14204.000000</td>\n",
              "      <td>11765.000000</td>\n",
              "      <td>14204.000000</td>\n",
              "    </tr>\n",
              "    <tr>\n",
              "      <th>mean</th>\n",
              "      <td>141.004977</td>\n",
              "      <td>2181.288914</td>\n",
              "      <td>0.065953</td>\n",
              "      <td>12.792854</td>\n",
              "      <td>1997.830681</td>\n",
              "    </tr>\n",
              "    <tr>\n",
              "      <th>std</th>\n",
              "      <td>62.086938</td>\n",
              "      <td>1706.499616</td>\n",
              "      <td>0.051459</td>\n",
              "      <td>4.652502</td>\n",
              "      <td>8.371664</td>\n",
              "    </tr>\n",
              "    <tr>\n",
              "      <th>min</th>\n",
              "      <td>31.290000</td>\n",
              "      <td>33.290000</td>\n",
              "      <td>0.000000</td>\n",
              "      <td>4.555000</td>\n",
              "      <td>1985.000000</td>\n",
              "    </tr>\n",
              "    <tr>\n",
              "      <th>25%</th>\n",
              "      <td>94.012000</td>\n",
              "      <td>834.247400</td>\n",
              "      <td>0.027036</td>\n",
              "      <td>8.710000</td>\n",
              "      <td>1987.000000</td>\n",
              "    </tr>\n",
              "    <tr>\n",
              "      <th>50%</th>\n",
              "      <td>142.247000</td>\n",
              "      <td>1794.331000</td>\n",
              "      <td>0.054021</td>\n",
              "      <td>12.600000</td>\n",
              "      <td>1999.000000</td>\n",
              "    </tr>\n",
              "    <tr>\n",
              "      <th>75%</th>\n",
              "      <td>185.855600</td>\n",
              "      <td>3101.296400</td>\n",
              "      <td>0.094037</td>\n",
              "      <td>16.750000</td>\n",
              "      <td>2004.000000</td>\n",
              "    </tr>\n",
              "    <tr>\n",
              "      <th>max</th>\n",
              "      <td>266.888400</td>\n",
              "      <td>13086.964800</td>\n",
              "      <td>0.328391</td>\n",
              "      <td>21.350000</td>\n",
              "      <td>2009.000000</td>\n",
              "    </tr>\n",
              "  </tbody>\n",
              "</table>\n",
              "</div>"
            ],
            "text/plain": [
              "           Item_MRP  Item_Outlet_Sales  ...   Item_Weight  Outlet_Establishment_Year\n",
              "count  14204.000000        8523.000000  ...  11765.000000               14204.000000\n",
              "mean     141.004977        2181.288914  ...     12.792854                1997.830681\n",
              "std       62.086938        1706.499616  ...      4.652502                   8.371664\n",
              "min       31.290000          33.290000  ...      4.555000                1985.000000\n",
              "25%       94.012000         834.247400  ...      8.710000                1987.000000\n",
              "50%      142.247000        1794.331000  ...     12.600000                1999.000000\n",
              "75%      185.855600        3101.296400  ...     16.750000                2004.000000\n",
              "max      266.888400       13086.964800  ...     21.350000                2009.000000\n",
              "\n",
              "[8 rows x 5 columns]"
            ]
          },
          "metadata": {
            "tags": []
          },
          "execution_count": 6
        }
      ]
    },
    {
      "cell_type": "code",
      "metadata": {
        "id": "H7Xw9a_T1jJT",
        "colab_type": "code",
        "outputId": "9b0cee1f-e50c-4d70-e2b5-a447f8f136bd",
        "colab": {
          "base_uri": "https://localhost:8080/",
          "height": 339
        }
      },
      "source": [
        "data.apply(lambda x: len(x.unique()))"
      ],
      "execution_count": 7,
      "outputs": [
        {
          "output_type": "execute_result",
          "data": {
            "text/plain": [
              "Item_Fat_Content                 5\n",
              "Item_Identifier               1559\n",
              "Item_MRP                      8052\n",
              "Item_Outlet_Sales             3494\n",
              "Item_Type                       16\n",
              "Item_Visibility              13006\n",
              "Item_Weight                    416\n",
              "Outlet_Establishment_Year        9\n",
              "Outlet_Identifier               10\n",
              "Outlet_Location_Type             3\n",
              "Outlet_Size                      4\n",
              "Outlet_Type                      4\n",
              "dtype: int64"
            ]
          },
          "metadata": {
            "tags": []
          },
          "execution_count": 7
        }
      ]
    },
    {
      "cell_type": "code",
      "metadata": {
        "id": "wvdxxJHg6IqL",
        "colab_type": "code",
        "outputId": "bfaab6b3-61fa-45f3-e195-76d2f72987d0",
        "colab": {
          "base_uri": "https://localhost:8080/",
          "height": 1000
        }
      },
      "source": [
        "categorical_columns = [x for x in data.dtypes.index\n",
        "                      if data.dtypes[x]=='object']\n",
        "\n",
        "# exclude Id cols\n",
        "categorical_columns = [x for x in categorical_columns \n",
        "                      if x not in ['Item_Identifier']]\n",
        "\n",
        "for col in categorical_columns:\n",
        "  print(data[col].value_counts())\n",
        "  print()"
      ],
      "execution_count": 8,
      "outputs": [
        {
          "output_type": "stream",
          "text": [
            "Low Fat    8485\n",
            "Regular    4824\n",
            "LF          522\n",
            "reg         195\n",
            "low fat     178\n",
            "Name: Item_Fat_Content, dtype: int64\n",
            "\n",
            "Fruits and Vegetables    2013\n",
            "Snack Foods              1989\n",
            "Household                1548\n",
            "Frozen Foods             1426\n",
            "Dairy                    1136\n",
            "Baking Goods             1086\n",
            "Canned                   1084\n",
            "Health and Hygiene        858\n",
            "Meat                      736\n",
            "Soft Drinks               726\n",
            "Breads                    416\n",
            "Hard Drinks               362\n",
            "Others                    280\n",
            "Starchy Foods             269\n",
            "Breakfast                 186\n",
            "Seafood                    89\n",
            "Name: Item_Type, dtype: int64\n",
            "\n",
            "OUT027    1559\n",
            "OUT013    1553\n",
            "OUT046    1550\n",
            "OUT035    1550\n",
            "OUT049    1550\n",
            "OUT045    1548\n",
            "OUT018    1546\n",
            "OUT017    1543\n",
            "OUT010     925\n",
            "OUT019     880\n",
            "Name: Outlet_Identifier, dtype: int64\n",
            "\n",
            "Tier 3    5583\n",
            "Tier 2    4641\n",
            "Tier 1    3980\n",
            "Name: Outlet_Location_Type, dtype: int64\n",
            "\n",
            "Medium    4655\n",
            "Small     3980\n",
            "High      1553\n",
            "Name: Outlet_Size, dtype: int64\n",
            "\n",
            "Supermarket Type1    9294\n",
            "Grocery Store        1805\n",
            "Supermarket Type3    1559\n",
            "Supermarket Type2    1546\n",
            "Name: Outlet_Type, dtype: int64\n",
            "\n"
          ],
          "name": "stdout"
        }
      ]
    },
    {
      "cell_type": "markdown",
      "metadata": {
        "id": "B4W8W38B7Pl2",
        "colab_type": "text"
      },
      "source": [
        "1. **Item_Fat_Content**: mis-coded `Low Fat`, `LF`, `low fat`; `Regular`, `reg`\n",
        "\n",
        "2. **Item_Type**: not all categories have substantial numbers\n",
        "  \n",
        "3. **Outlet_Type**: `Supermarket Type2` and `Supermarket Type3` can be combined"
      ]
    },
    {
      "cell_type": "markdown",
      "metadata": {
        "colab_type": "text",
        "id": "fkOZpHkp8X6c"
      },
      "source": [
        "## Data Cleaning\n",
        "\n",
        "Inputing missing values in the data and checking for outliers"
      ]
    },
    {
      "cell_type": "markdown",
      "metadata": {
        "id": "_iIwY48a8ZB_",
        "colab_type": "text"
      },
      "source": [
        "### Input missing values"
      ]
    },
    {
      "cell_type": "code",
      "metadata": {
        "id": "zOxpoWMT8oqK",
        "colab_type": "code",
        "outputId": "1cc5f6d3-4af3-42b5-caaf-5468e12b3204",
        "colab": {
          "base_uri": "https://localhost:8080/",
          "height": 339
        }
      },
      "source": [
        "data['Item_Weight'].fillna(data['Item_Weight'].mean(),inplace=True)\n",
        "data['Outlet_Size'].fillna(data['Outlet_Size'].mode()[0],inplace=True)\n",
        "data.isnull().sum()"
      ],
      "execution_count": 9,
      "outputs": [
        {
          "output_type": "execute_result",
          "data": {
            "text/plain": [
              "Item_Fat_Content                0\n",
              "Item_Identifier                 0\n",
              "Item_MRP                        0\n",
              "Item_Outlet_Sales            5681\n",
              "Item_Type                       0\n",
              "Item_Visibility                 0\n",
              "Item_Weight                     0\n",
              "Outlet_Establishment_Year       0\n",
              "Outlet_Identifier               0\n",
              "Outlet_Location_Type            0\n",
              "Outlet_Size                     0\n",
              "Outlet_Type                     0\n",
              "dtype: int64"
            ]
          },
          "metadata": {
            "tags": []
          },
          "execution_count": 9
        }
      ]
    },
    {
      "cell_type": "markdown",
      "metadata": {
        "id": "cbmqyCwisKtZ",
        "colab_type": "text"
      },
      "source": [
        "## Feature Engineering\n",
        "\n",
        "Modifying existing varibales and creating new ones for analysis"
      ]
    },
    {
      "cell_type": "markdown",
      "metadata": {
        "id": "SFREM0k5-jAO",
        "colab_type": "text"
      },
      "source": [
        "### Consider combining Outlet_Type\n",
        "\n",
        "Check if they have similar mean sales"
      ]
    },
    {
      "cell_type": "code",
      "metadata": {
        "id": "PdF-zaqc_U5A",
        "colab_type": "code",
        "outputId": "3470b783-66bd-49a1-a320-4d7e2d519299",
        "colab": {
          "base_uri": "https://localhost:8080/",
          "height": 251
        }
      },
      "source": [
        "data.pivot_table(values='Item_Outlet_Sales',index='Outlet_Type')"
      ],
      "execution_count": 10,
      "outputs": [
        {
          "output_type": "execute_result",
          "data": {
            "text/html": [
              "<div>\n",
              "<style scoped>\n",
              "    .dataframe tbody tr th:only-of-type {\n",
              "        vertical-align: middle;\n",
              "    }\n",
              "\n",
              "    .dataframe tbody tr th {\n",
              "        vertical-align: top;\n",
              "    }\n",
              "\n",
              "    .dataframe thead th {\n",
              "        text-align: right;\n",
              "    }\n",
              "</style>\n",
              "<table border=\"1\" class=\"dataframe\">\n",
              "  <thead>\n",
              "    <tr style=\"text-align: right;\">\n",
              "      <th></th>\n",
              "      <th>Item_Outlet_Sales</th>\n",
              "    </tr>\n",
              "    <tr>\n",
              "      <th>Outlet_Type</th>\n",
              "      <th></th>\n",
              "    </tr>\n",
              "  </thead>\n",
              "  <tbody>\n",
              "    <tr>\n",
              "      <th>Grocery Store</th>\n",
              "      <td>339.828500</td>\n",
              "    </tr>\n",
              "    <tr>\n",
              "      <th>Supermarket Type1</th>\n",
              "      <td>2316.181148</td>\n",
              "    </tr>\n",
              "    <tr>\n",
              "      <th>Supermarket Type2</th>\n",
              "      <td>1995.498739</td>\n",
              "    </tr>\n",
              "    <tr>\n",
              "      <th>Supermarket Type3</th>\n",
              "      <td>3694.038558</td>\n",
              "    </tr>\n",
              "  </tbody>\n",
              "</table>\n",
              "</div>"
            ],
            "text/plain": [
              "                   Item_Outlet_Sales\n",
              "Outlet_Type                         \n",
              "Grocery Store             339.828500\n",
              "Supermarket Type1        2316.181148\n",
              "Supermarket Type2        1995.498739\n",
              "Supermarket Type3        3694.038558"
            ]
          },
          "metadata": {
            "tags": []
          },
          "execution_count": 10
        }
      ]
    },
    {
      "cell_type": "markdown",
      "metadata": {
        "id": "NcE2Gexj_kbk",
        "colab_type": "text"
      },
      "source": [
        "There is a significant difference between them, just leave them as it is ."
      ]
    },
    {
      "cell_type": "markdown",
      "metadata": {
        "id": "bQzjrr8G_seP",
        "colab_type": "text"
      },
      "source": [
        "### Modify Item_Visibility\n",
        "\n",
        "The minimum value (0) which makes no practical sense will be replaced with mean visibility of that product"
      ]
    },
    {
      "cell_type": "code",
      "metadata": {
        "id": "9IBkxLVmALY0",
        "colab_type": "code",
        "colab": {}
      },
      "source": [
        "# Determine average visibility of a product\n",
        "#visibility_avg = data.pivot_table(values='Item_Visibility',\n",
        "#                                 index='Item_Identifier')\n",
        "\n",
        "# Input 0 values with mean visibility of that product\n",
        "#miss_bool = (data['Item_Visibility'] == 0)\n",
        "\n",
        "#print(sum(miss_bool))\n",
        "\n",
        "#data.loc[miss_bool,'Item_Visibility'] = \\\n",
        "#data.loc[miss_bool,'Item_Identifier'].apply(lambda x: visibility_avg[x])\n",
        "\n",
        "#print(sum(data['Item_Visibility']==0))"
      ],
      "execution_count": 0,
      "outputs": []
    },
    {
      "cell_type": "markdown",
      "metadata": {
        "id": "Ve-dbFFUE7jM",
        "colab_type": "text"
      },
      "source": [
        "### Create a broad category of Type of Item"
      ]
    },
    {
      "cell_type": "code",
      "metadata": {
        "id": "jVpcB5dtFNUr",
        "colab_type": "code",
        "colab": {
          "base_uri": "https://localhost:8080/",
          "height": 116
        },
        "outputId": "8337b3bc-21cc-4443-f48d-749838971cb3"
      },
      "source": [
        "# Get the first two characters of ID:\n",
        "data['Item_Type_Combined'] = data['Item_Identifier'].apply(lambda x: x[0:2])\n",
        "\n",
        "# Rename them to more intuitive categories:\n",
        "data['Item_Type_Combined'] = data['Item_Type_Combined'].map({'FD':'Food',\n",
        "                                                            'NC':'Non-Consumable',\n",
        "                                                            'DR': 'Drinks'})\n",
        "data['Item_Type_Combined'].value_counts()"
      ],
      "execution_count": 13,
      "outputs": [
        {
          "output_type": "execute_result",
          "data": {
            "text/plain": [
              "Food              10201\n",
              "Non-Consumable     2686\n",
              "Drinks             1317\n",
              "Name: Item_Type_Combined, dtype: int64"
            ]
          },
          "metadata": {
            "tags": []
          },
          "execution_count": 13
        }
      ]
    },
    {
      "cell_type": "markdown",
      "metadata": {
        "id": "QzmtqtbOITMY",
        "colab_type": "text"
      },
      "source": [
        "### Determine the years of operation of a store"
      ]
    },
    {
      "cell_type": "code",
      "metadata": {
        "id": "eCHjAub4Hv2U",
        "colab_type": "code",
        "colab": {
          "base_uri": "https://localhost:8080/",
          "height": 240
        },
        "outputId": "e397c1cb-240d-44cd-b84c-406f63ef280e"
      },
      "source": [
        "data['Outlet_Years'] = 2013 - data['Outlet_Establishment_Year']\n",
        "data['Outlet_Years'].describe()"
      ],
      "execution_count": 14,
      "outputs": [
        {
          "output_type": "execute_result",
          "data": {
            "text/plain": [
              "count    14204.000000\n",
              "mean        15.169319\n",
              "std          8.371664\n",
              "min          4.000000\n",
              "25%          9.000000\n",
              "50%         14.000000\n",
              "75%         26.000000\n",
              "max         28.000000\n",
              "Name: Outlet_Years, dtype: float64"
            ]
          },
          "metadata": {
            "tags": []
          },
          "execution_count": 14
        }
      ]
    },
    {
      "cell_type": "markdown",
      "metadata": {
        "id": "cmg70-QjIYvx",
        "colab_type": "text"
      },
      "source": [
        "### Modify categories of Item_Fat_Content"
      ]
    },
    {
      "cell_type": "code",
      "metadata": {
        "id": "7qJNFTW4Ier4",
        "colab_type": "code",
        "colab": {
          "base_uri": "https://localhost:8080/",
          "height": 91
        },
        "outputId": "d702fbdd-400d-4deb-d2f7-4b40a187fa79"
      },
      "source": [
        "data['Item_Fat_Content'] = data['Item_Fat_Content'].replace({'LF':'Low Fat',\n",
        "                                                            'reg':'Regular',\n",
        "                                                            'low fat':'Low Fat'})\n",
        "data['Item_Fat_Content'].value_counts()"
      ],
      "execution_count": 15,
      "outputs": [
        {
          "output_type": "execute_result",
          "data": {
            "text/plain": [
              "Low Fat    9185\n",
              "Regular    5019\n",
              "Name: Item_Fat_Content, dtype: int64"
            ]
          },
          "metadata": {
            "tags": []
          },
          "execution_count": 15
        }
      ]
    },
    {
      "cell_type": "code",
      "metadata": {
        "id": "218sQMKeJA--",
        "colab_type": "code",
        "colab": {
          "base_uri": "https://localhost:8080/",
          "height": 91
        },
        "outputId": "fa250608-ef37-4749-a8ed-f74b2e9a77c5"
      },
      "source": [
        "data.loc[data['Item_Type_Combined']==\"None-Consumable\",'Item_Fat_Content']=\"Non-Edible\"\n",
        "\n",
        "data['Item_Fat_Content'].value_counts()"
      ],
      "execution_count": 16,
      "outputs": [
        {
          "output_type": "execute_result",
          "data": {
            "text/plain": [
              "Low Fat    9185\n",
              "Regular    5019\n",
              "Name: Item_Fat_Content, dtype: int64"
            ]
          },
          "metadata": {
            "tags": []
          },
          "execution_count": 16
        }
      ]
    },
    {
      "cell_type": "markdown",
      "metadata": {
        "id": "Y9wwXT6VJzEZ",
        "colab_type": "text"
      },
      "source": [
        "### Numerical and One-Hot Coding of Categorical variables"
      ]
    },
    {
      "cell_type": "code",
      "metadata": {
        "id": "_0qn6_SMJ6T0",
        "colab_type": "code",
        "colab": {
          "base_uri": "https://localhost:8080/",
          "height": 860
        },
        "outputId": "94da14bb-39c6-4dc2-e08e-cf5f4f224423"
      },
      "source": [
        "# One Hot Coding:\n",
        "data = pd.get_dummies(data, columns=['Item_Fat_Content',\n",
        "                                    'Outlet_Location_Type',\n",
        "                                    'Outlet_Size', 'Outlet_Type',\n",
        "                                    'Item_Type_Combined', 'Outlet_Identifier'])\n",
        "data.dtypes"
      ],
      "execution_count": 17,
      "outputs": [
        {
          "output_type": "execute_result",
          "data": {
            "text/plain": [
              "Item_Identifier                       object\n",
              "Item_MRP                             float64\n",
              "Item_Outlet_Sales                    float64\n",
              "Item_Type                             object\n",
              "Item_Visibility                      float64\n",
              "Item_Weight                          float64\n",
              "Outlet_Establishment_Year              int64\n",
              "Outlet_Years                           int64\n",
              "Item_Fat_Content_Low Fat               uint8\n",
              "Item_Fat_Content_Regular               uint8\n",
              "Outlet_Location_Type_Tier 1            uint8\n",
              "Outlet_Location_Type_Tier 2            uint8\n",
              "Outlet_Location_Type_Tier 3            uint8\n",
              "Outlet_Size_High                       uint8\n",
              "Outlet_Size_Medium                     uint8\n",
              "Outlet_Size_Small                      uint8\n",
              "Outlet_Type_Grocery Store              uint8\n",
              "Outlet_Type_Supermarket Type1          uint8\n",
              "Outlet_Type_Supermarket Type2          uint8\n",
              "Outlet_Type_Supermarket Type3          uint8\n",
              "Item_Type_Combined_Drinks              uint8\n",
              "Item_Type_Combined_Food                uint8\n",
              "Item_Type_Combined_Non-Consumable      uint8\n",
              "Outlet_Identifier_OUT010               uint8\n",
              "Outlet_Identifier_OUT013               uint8\n",
              "Outlet_Identifier_OUT017               uint8\n",
              "Outlet_Identifier_OUT018               uint8\n",
              "Outlet_Identifier_OUT019               uint8\n",
              "Outlet_Identifier_OUT027               uint8\n",
              "Outlet_Identifier_OUT035               uint8\n",
              "Outlet_Identifier_OUT045               uint8\n",
              "Outlet_Identifier_OUT046               uint8\n",
              "Outlet_Identifier_OUT049               uint8\n",
              "dtype: object"
            ]
          },
          "metadata": {
            "tags": []
          },
          "execution_count": 17
        }
      ]
    },
    {
      "cell_type": "markdown",
      "metadata": {
        "id": "J_5o1vyEO1pA",
        "colab_type": "text"
      },
      "source": [
        "### Exporting data"
      ]
    },
    {
      "cell_type": "code",
      "metadata": {
        "id": "3RXsfFAEO8PS",
        "colab_type": "code",
        "colab": {
          "base_uri": "https://localhost:8080/",
          "height": 141
        },
        "outputId": "36623dda-4b63-4795-ff73-5ef585f81fec"
      },
      "source": [
        "data.drop(['Item_Type','Outlet_Establishment_Year'], axis=1, inplace=True)\n",
        "\n",
        "train = data[data['Item_Outlet_Sales'].notnull()]\n",
        "test = data[data['Item_Outlet_Sales'].isnull()]\n",
        "\n",
        "test.drop(['Item_Outlet_Sales'], axis=1, inplace=True)\n",
        "\n",
        "train.to_csv(\"train_modified.csv\", index=False)\n",
        "test.to_csv(\"test_modified.csv\", index=False)"
      ],
      "execution_count": 23,
      "outputs": [
        {
          "output_type": "stream",
          "text": [
            "/usr/local/lib/python3.6/dist-packages/pandas/core/frame.py:3940: SettingWithCopyWarning: \n",
            "A value is trying to be set on a copy of a slice from a DataFrame\n",
            "\n",
            "See the caveats in the documentation: http://pandas.pydata.org/pandas-docs/stable/indexing.html#indexing-view-versus-copy\n",
            "  errors=errors)\n"
          ],
          "name": "stderr"
        }
      ]
    },
    {
      "cell_type": "markdown",
      "metadata": {
        "id": "IHSY42obsSLE",
        "colab_type": "text"
      },
      "source": [
        "## Model Building\n",
        "\n",
        "Making predictive models on the data"
      ]
    },
    {
      "cell_type": "markdown",
      "metadata": {
        "id": "1J9ov5GyUcw2",
        "colab_type": "text"
      },
      "source": [
        "### Baseline model"
      ]
    },
    {
      "cell_type": "code",
      "metadata": {
        "id": "jwtqrqBYUgnW",
        "colab_type": "code",
        "outputId": "24261e83-44b7-49ad-f810-ec1684a790f0",
        "colab": {
          "base_uri": "https://localhost:8080/",
          "height": 166
        }
      },
      "source": [
        "mean_sales = train['Item_Outlet_Sales'].mean()\n",
        "\n",
        "base1 = test[['Item_Identifier']]\n",
        "base1['Item_Outlet_Sales'] = mean_sales\n",
        "\n",
        "base1.to_csv('alg0.csv',index=False)"
      ],
      "execution_count": 25,
      "outputs": [
        {
          "output_type": "stream",
          "text": [
            "/usr/local/lib/python3.6/dist-packages/ipykernel_launcher.py:4: SettingWithCopyWarning: \n",
            "A value is trying to be set on a copy of a slice from a DataFrame.\n",
            "Try using .loc[row_indexer,col_indexer] = value instead\n",
            "\n",
            "See the caveats in the documentation: http://pandas.pydata.org/pandas-docs/stable/indexing.html#indexing-view-versus-copy\n",
            "  after removing the cwd from sys.path.\n"
          ],
          "name": "stderr"
        }
      ]
    },
    {
      "cell_type": "markdown",
      "metadata": {
        "id": "VH4M_oRzU7M_",
        "colab_type": "text"
      },
      "source": [
        "### Linear Regression Model"
      ]
    },
    {
      "cell_type": "code",
      "metadata": {
        "id": "A0DrZGOwvymF",
        "colab_type": "code",
        "colab": {}
      },
      "source": [
        ""
      ],
      "execution_count": 0,
      "outputs": []
    },
    {
      "cell_type": "markdown",
      "metadata": {
        "id": "ZMEN2_kGwNJA",
        "colab_type": "text"
      },
      "source": [
        "### Ridge Regression Model"
      ]
    },
    {
      "cell_type": "code",
      "metadata": {
        "id": "EBzCykkKwRY9",
        "colab_type": "code",
        "colab": {}
      },
      "source": [
        ""
      ],
      "execution_count": 0,
      "outputs": []
    },
    {
      "cell_type": "markdown",
      "metadata": {
        "id": "bg_r5-0XwRre",
        "colab_type": "text"
      },
      "source": [
        "### Decision Tree Model"
      ]
    },
    {
      "cell_type": "code",
      "metadata": {
        "id": "bANYoha4wa_N",
        "colab_type": "code",
        "colab": {}
      },
      "source": [
        ""
      ],
      "execution_count": 0,
      "outputs": []
    },
    {
      "cell_type": "markdown",
      "metadata": {
        "id": "thTTvjagwbaG",
        "colab_type": "text"
      },
      "source": [
        "### Random Forest Model"
      ]
    },
    {
      "cell_type": "code",
      "metadata": {
        "id": "RKQ_56xZwzyb",
        "colab_type": "code",
        "colab": {}
      },
      "source": [
        ""
      ],
      "execution_count": 0,
      "outputs": []
    }
  ]
}