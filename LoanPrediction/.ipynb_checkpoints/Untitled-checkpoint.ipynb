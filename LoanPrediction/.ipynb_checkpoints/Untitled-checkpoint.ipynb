{
 "cells": [
  {
   "cell_type": "markdown",
   "metadata": {},
   "source": [
    "# [Loan Prediction](https://datahack.analyticsvidhya.com/contest/practice-problem-loan-prediction-iii/)"
   ]
  },
  {
   "cell_type": "code",
   "execution_count": 1,
   "metadata": {},
   "outputs": [],
   "source": [
    "import numpy as np, pandas as pd, seaborn as sns\n",
    "import matplotlib.pyplot as plt\n",
    "%matplotlib inline\n",
    "import warnings\n",
    "warnings.filterwarnings('ignore')\n",
    "from sklearn.preprocessing import LabelEncoder, OneHotEncoder, StandardScaler\n",
    "from sklearn.model_selection import train_test_split\n",
    "from sklearn.svm import SVC\n",
    "from sklearn.metrics import accuracy_score, classification_report"
   ]
  },
  {
   "cell_type": "markdown",
   "metadata": {},
   "source": [
    "## Explore dataset"
   ]
  },
  {
   "cell_type": "markdown",
   "metadata": {},
   "source": [
    "Read training set"
   ]
  },
  {
   "cell_type": "code",
   "execution_count": 2,
   "metadata": {},
   "outputs": [
    {
     "data": {
      "text/html": [
       "<div>\n",
       "<style scoped>\n",
       "    .dataframe tbody tr th:only-of-type {\n",
       "        vertical-align: middle;\n",
       "    }\n",
       "\n",
       "    .dataframe tbody tr th {\n",
       "        vertical-align: top;\n",
       "    }\n",
       "\n",
       "    .dataframe thead th {\n",
       "        text-align: right;\n",
       "    }\n",
       "</style>\n",
       "<table border=\"1\" class=\"dataframe\">\n",
       "  <thead>\n",
       "    <tr style=\"text-align: right;\">\n",
       "      <th></th>\n",
       "      <th>Loan_ID</th>\n",
       "      <th>Gender</th>\n",
       "      <th>Married</th>\n",
       "      <th>Dependents</th>\n",
       "      <th>Education</th>\n",
       "      <th>Self_Employed</th>\n",
       "      <th>ApplicantIncome</th>\n",
       "      <th>CoapplicantIncome</th>\n",
       "      <th>LoanAmount</th>\n",
       "      <th>Loan_Amount_Term</th>\n",
       "      <th>Credit_History</th>\n",
       "      <th>Property_Area</th>\n",
       "      <th>Loan_Status</th>\n",
       "    </tr>\n",
       "  </thead>\n",
       "  <tbody>\n",
       "    <tr>\n",
       "      <th>0</th>\n",
       "      <td>LP001002</td>\n",
       "      <td>Male</td>\n",
       "      <td>No</td>\n",
       "      <td>0</td>\n",
       "      <td>Graduate</td>\n",
       "      <td>No</td>\n",
       "      <td>5849</td>\n",
       "      <td>0.0</td>\n",
       "      <td>NaN</td>\n",
       "      <td>360.0</td>\n",
       "      <td>1.0</td>\n",
       "      <td>Urban</td>\n",
       "      <td>Y</td>\n",
       "    </tr>\n",
       "    <tr>\n",
       "      <th>1</th>\n",
       "      <td>LP001003</td>\n",
       "      <td>Male</td>\n",
       "      <td>Yes</td>\n",
       "      <td>1</td>\n",
       "      <td>Graduate</td>\n",
       "      <td>No</td>\n",
       "      <td>4583</td>\n",
       "      <td>1508.0</td>\n",
       "      <td>128.0</td>\n",
       "      <td>360.0</td>\n",
       "      <td>1.0</td>\n",
       "      <td>Rural</td>\n",
       "      <td>N</td>\n",
       "    </tr>\n",
       "    <tr>\n",
       "      <th>2</th>\n",
       "      <td>LP001005</td>\n",
       "      <td>Male</td>\n",
       "      <td>Yes</td>\n",
       "      <td>0</td>\n",
       "      <td>Graduate</td>\n",
       "      <td>Yes</td>\n",
       "      <td>3000</td>\n",
       "      <td>0.0</td>\n",
       "      <td>66.0</td>\n",
       "      <td>360.0</td>\n",
       "      <td>1.0</td>\n",
       "      <td>Urban</td>\n",
       "      <td>Y</td>\n",
       "    </tr>\n",
       "    <tr>\n",
       "      <th>3</th>\n",
       "      <td>LP001006</td>\n",
       "      <td>Male</td>\n",
       "      <td>Yes</td>\n",
       "      <td>0</td>\n",
       "      <td>Not Graduate</td>\n",
       "      <td>No</td>\n",
       "      <td>2583</td>\n",
       "      <td>2358.0</td>\n",
       "      <td>120.0</td>\n",
       "      <td>360.0</td>\n",
       "      <td>1.0</td>\n",
       "      <td>Urban</td>\n",
       "      <td>Y</td>\n",
       "    </tr>\n",
       "    <tr>\n",
       "      <th>4</th>\n",
       "      <td>LP001008</td>\n",
       "      <td>Male</td>\n",
       "      <td>No</td>\n",
       "      <td>0</td>\n",
       "      <td>Graduate</td>\n",
       "      <td>No</td>\n",
       "      <td>6000</td>\n",
       "      <td>0.0</td>\n",
       "      <td>141.0</td>\n",
       "      <td>360.0</td>\n",
       "      <td>1.0</td>\n",
       "      <td>Urban</td>\n",
       "      <td>Y</td>\n",
       "    </tr>\n",
       "  </tbody>\n",
       "</table>\n",
       "</div>"
      ],
      "text/plain": [
       "    Loan_ID Gender Married Dependents     Education Self_Employed  \\\n",
       "0  LP001002   Male      No          0      Graduate            No   \n",
       "1  LP001003   Male     Yes          1      Graduate            No   \n",
       "2  LP001005   Male     Yes          0      Graduate           Yes   \n",
       "3  LP001006   Male     Yes          0  Not Graduate            No   \n",
       "4  LP001008   Male      No          0      Graduate            No   \n",
       "\n",
       "   ApplicantIncome  CoapplicantIncome  LoanAmount  Loan_Amount_Term  \\\n",
       "0             5849                0.0         NaN             360.0   \n",
       "1             4583             1508.0       128.0             360.0   \n",
       "2             3000                0.0        66.0             360.0   \n",
       "3             2583             2358.0       120.0             360.0   \n",
       "4             6000                0.0       141.0             360.0   \n",
       "\n",
       "   Credit_History Property_Area Loan_Status  \n",
       "0             1.0         Urban           Y  \n",
       "1             1.0         Rural           N  \n",
       "2             1.0         Urban           Y  \n",
       "3             1.0         Urban           Y  \n",
       "4             1.0         Urban           Y  "
      ]
     },
     "execution_count": 2,
     "metadata": {},
     "output_type": "execute_result"
    }
   ],
   "source": [
    "train = pd.read_csv('train_ctrUa4K.csv')\n",
    "train.head()"
   ]
  },
  {
   "cell_type": "code",
   "execution_count": 3,
   "metadata": {},
   "outputs": [],
   "source": [
    "# Drop Loan_ID column\n",
    "#train.drop(columns=['Loan_ID'], inplace=True)"
   ]
  },
  {
   "cell_type": "markdown",
   "metadata": {},
   "source": [
    "Read test set"
   ]
  },
  {
   "cell_type": "code",
   "execution_count": 4,
   "metadata": {},
   "outputs": [
    {
     "data": {
      "text/html": [
       "<div>\n",
       "<style scoped>\n",
       "    .dataframe tbody tr th:only-of-type {\n",
       "        vertical-align: middle;\n",
       "    }\n",
       "\n",
       "    .dataframe tbody tr th {\n",
       "        vertical-align: top;\n",
       "    }\n",
       "\n",
       "    .dataframe thead th {\n",
       "        text-align: right;\n",
       "    }\n",
       "</style>\n",
       "<table border=\"1\" class=\"dataframe\">\n",
       "  <thead>\n",
       "    <tr style=\"text-align: right;\">\n",
       "      <th></th>\n",
       "      <th>Loan_ID</th>\n",
       "      <th>Gender</th>\n",
       "      <th>Married</th>\n",
       "      <th>Dependents</th>\n",
       "      <th>Education</th>\n",
       "      <th>Self_Employed</th>\n",
       "      <th>ApplicantIncome</th>\n",
       "      <th>CoapplicantIncome</th>\n",
       "      <th>LoanAmount</th>\n",
       "      <th>Loan_Amount_Term</th>\n",
       "      <th>Credit_History</th>\n",
       "      <th>Property_Area</th>\n",
       "    </tr>\n",
       "  </thead>\n",
       "  <tbody>\n",
       "    <tr>\n",
       "      <th>0</th>\n",
       "      <td>LP001015</td>\n",
       "      <td>Male</td>\n",
       "      <td>Yes</td>\n",
       "      <td>0</td>\n",
       "      <td>Graduate</td>\n",
       "      <td>No</td>\n",
       "      <td>5720</td>\n",
       "      <td>0</td>\n",
       "      <td>110.0</td>\n",
       "      <td>360.0</td>\n",
       "      <td>1.0</td>\n",
       "      <td>Urban</td>\n",
       "    </tr>\n",
       "    <tr>\n",
       "      <th>1</th>\n",
       "      <td>LP001022</td>\n",
       "      <td>Male</td>\n",
       "      <td>Yes</td>\n",
       "      <td>1</td>\n",
       "      <td>Graduate</td>\n",
       "      <td>No</td>\n",
       "      <td>3076</td>\n",
       "      <td>1500</td>\n",
       "      <td>126.0</td>\n",
       "      <td>360.0</td>\n",
       "      <td>1.0</td>\n",
       "      <td>Urban</td>\n",
       "    </tr>\n",
       "    <tr>\n",
       "      <th>2</th>\n",
       "      <td>LP001031</td>\n",
       "      <td>Male</td>\n",
       "      <td>Yes</td>\n",
       "      <td>2</td>\n",
       "      <td>Graduate</td>\n",
       "      <td>No</td>\n",
       "      <td>5000</td>\n",
       "      <td>1800</td>\n",
       "      <td>208.0</td>\n",
       "      <td>360.0</td>\n",
       "      <td>1.0</td>\n",
       "      <td>Urban</td>\n",
       "    </tr>\n",
       "    <tr>\n",
       "      <th>3</th>\n",
       "      <td>LP001035</td>\n",
       "      <td>Male</td>\n",
       "      <td>Yes</td>\n",
       "      <td>2</td>\n",
       "      <td>Graduate</td>\n",
       "      <td>No</td>\n",
       "      <td>2340</td>\n",
       "      <td>2546</td>\n",
       "      <td>100.0</td>\n",
       "      <td>360.0</td>\n",
       "      <td>NaN</td>\n",
       "      <td>Urban</td>\n",
       "    </tr>\n",
       "    <tr>\n",
       "      <th>4</th>\n",
       "      <td>LP001051</td>\n",
       "      <td>Male</td>\n",
       "      <td>No</td>\n",
       "      <td>0</td>\n",
       "      <td>Not Graduate</td>\n",
       "      <td>No</td>\n",
       "      <td>3276</td>\n",
       "      <td>0</td>\n",
       "      <td>78.0</td>\n",
       "      <td>360.0</td>\n",
       "      <td>1.0</td>\n",
       "      <td>Urban</td>\n",
       "    </tr>\n",
       "  </tbody>\n",
       "</table>\n",
       "</div>"
      ],
      "text/plain": [
       "    Loan_ID Gender Married Dependents     Education Self_Employed  \\\n",
       "0  LP001015   Male     Yes          0      Graduate            No   \n",
       "1  LP001022   Male     Yes          1      Graduate            No   \n",
       "2  LP001031   Male     Yes          2      Graduate            No   \n",
       "3  LP001035   Male     Yes          2      Graduate            No   \n",
       "4  LP001051   Male      No          0  Not Graduate            No   \n",
       "\n",
       "   ApplicantIncome  CoapplicantIncome  LoanAmount  Loan_Amount_Term  \\\n",
       "0             5720                  0       110.0             360.0   \n",
       "1             3076               1500       126.0             360.0   \n",
       "2             5000               1800       208.0             360.0   \n",
       "3             2340               2546       100.0             360.0   \n",
       "4             3276                  0        78.0             360.0   \n",
       "\n",
       "   Credit_History Property_Area  \n",
       "0             1.0         Urban  \n",
       "1             1.0         Urban  \n",
       "2             1.0         Urban  \n",
       "3             NaN         Urban  \n",
       "4             1.0         Urban  "
      ]
     },
     "execution_count": 4,
     "metadata": {},
     "output_type": "execute_result"
    }
   ],
   "source": [
    "test = pd.read_csv('test_lAUu6dG.csv')\n",
    "test.head()"
   ]
  },
  {
   "cell_type": "markdown",
   "metadata": {},
   "source": [
    "Read sample submission"
   ]
  },
  {
   "cell_type": "code",
   "execution_count": 5,
   "metadata": {},
   "outputs": [
    {
     "data": {
      "text/html": [
       "<div>\n",
       "<style scoped>\n",
       "    .dataframe tbody tr th:only-of-type {\n",
       "        vertical-align: middle;\n",
       "    }\n",
       "\n",
       "    .dataframe tbody tr th {\n",
       "        vertical-align: top;\n",
       "    }\n",
       "\n",
       "    .dataframe thead th {\n",
       "        text-align: right;\n",
       "    }\n",
       "</style>\n",
       "<table border=\"1\" class=\"dataframe\">\n",
       "  <thead>\n",
       "    <tr style=\"text-align: right;\">\n",
       "      <th></th>\n",
       "      <th>Loan_ID</th>\n",
       "      <th>Loan_Status</th>\n",
       "    </tr>\n",
       "  </thead>\n",
       "  <tbody>\n",
       "    <tr>\n",
       "      <th>0</th>\n",
       "      <td>LP001015</td>\n",
       "      <td>N</td>\n",
       "    </tr>\n",
       "    <tr>\n",
       "      <th>1</th>\n",
       "      <td>LP001022</td>\n",
       "      <td>N</td>\n",
       "    </tr>\n",
       "  </tbody>\n",
       "</table>\n",
       "</div>"
      ],
      "text/plain": [
       "    Loan_ID Loan_Status\n",
       "0  LP001015           N\n",
       "1  LP001022           N"
      ]
     },
     "execution_count": 5,
     "metadata": {},
     "output_type": "execute_result"
    }
   ],
   "source": [
    "sample = pd.read_csv('sample_submission_49d68Cx.csv')\n",
    "sample.head(2)"
   ]
  },
  {
   "cell_type": "markdown",
   "metadata": {},
   "source": [
    "Get info"
   ]
  },
  {
   "cell_type": "code",
   "execution_count": 6,
   "metadata": {},
   "outputs": [
    {
     "name": "stdout",
     "output_type": "stream",
     "text": [
      "<class 'pandas.core.frame.DataFrame'>\n",
      "RangeIndex: 614 entries, 0 to 613\n",
      "Data columns (total 13 columns):\n",
      "Loan_ID              614 non-null object\n",
      "Gender               601 non-null object\n",
      "Married              611 non-null object\n",
      "Dependents           599 non-null object\n",
      "Education            614 non-null object\n",
      "Self_Employed        582 non-null object\n",
      "ApplicantIncome      614 non-null int64\n",
      "CoapplicantIncome    614 non-null float64\n",
      "LoanAmount           592 non-null float64\n",
      "Loan_Amount_Term     600 non-null float64\n",
      "Credit_History       564 non-null float64\n",
      "Property_Area        614 non-null object\n",
      "Loan_Status          614 non-null object\n",
      "dtypes: float64(4), int64(1), object(8)\n",
      "memory usage: 62.4+ KB\n"
     ]
    }
   ],
   "source": [
    "train.info()"
   ]
  },
  {
   "cell_type": "code",
   "execution_count": 7,
   "metadata": {},
   "outputs": [
    {
     "name": "stdout",
     "output_type": "stream",
     "text": [
      "<class 'pandas.core.frame.DataFrame'>\n",
      "RangeIndex: 367 entries, 0 to 366\n",
      "Data columns (total 12 columns):\n",
      "Loan_ID              367 non-null object\n",
      "Gender               356 non-null object\n",
      "Married              367 non-null object\n",
      "Dependents           357 non-null object\n",
      "Education            367 non-null object\n",
      "Self_Employed        344 non-null object\n",
      "ApplicantIncome      367 non-null int64\n",
      "CoapplicantIncome    367 non-null int64\n",
      "LoanAmount           362 non-null float64\n",
      "Loan_Amount_Term     361 non-null float64\n",
      "Credit_History       338 non-null float64\n",
      "Property_Area        367 non-null object\n",
      "dtypes: float64(3), int64(2), object(7)\n",
      "memory usage: 34.5+ KB\n"
     ]
    }
   ],
   "source": [
    "test.info()"
   ]
  },
  {
   "cell_type": "markdown",
   "metadata": {},
   "source": [
    "Count missing values"
   ]
  },
  {
   "cell_type": "code",
   "execution_count": 8,
   "metadata": {},
   "outputs": [
    {
     "data": {
      "text/plain": [
       "Loan_ID               0\n",
       "Gender               13\n",
       "Married               3\n",
       "Dependents           15\n",
       "Education             0\n",
       "Self_Employed        32\n",
       "ApplicantIncome       0\n",
       "CoapplicantIncome     0\n",
       "LoanAmount           22\n",
       "Loan_Amount_Term     14\n",
       "Credit_History       50\n",
       "Property_Area         0\n",
       "Loan_Status           0\n",
       "dtype: int64"
      ]
     },
     "execution_count": 8,
     "metadata": {},
     "output_type": "execute_result"
    }
   ],
   "source": [
    "train.isnull().sum()"
   ]
  },
  {
   "cell_type": "code",
   "execution_count": 9,
   "metadata": {},
   "outputs": [
    {
     "data": {
      "text/plain": [
       "Loan_ID               0\n",
       "Gender               11\n",
       "Married               0\n",
       "Dependents           10\n",
       "Education             0\n",
       "Self_Employed        23\n",
       "ApplicantIncome       0\n",
       "CoapplicantIncome     0\n",
       "LoanAmount            5\n",
       "Loan_Amount_Term      6\n",
       "Credit_History       29\n",
       "Property_Area         0\n",
       "dtype: int64"
      ]
     },
     "execution_count": 9,
     "metadata": {},
     "output_type": "execute_result"
    }
   ],
   "source": [
    "test.isnull().sum()"
   ]
  },
  {
   "cell_type": "markdown",
   "metadata": {},
   "source": [
    "There is no missing value in Education, ApplicantIncome, CoapplicantIncome, Property_Area columns."
   ]
  },
  {
   "cell_type": "code",
   "execution_count": 10,
   "metadata": {},
   "outputs": [
    {
     "name": "stdout",
     "output_type": "stream",
     "text": [
      "Male      489\n",
      "Female    112\n",
      "NA         13\n",
      "Name: Gender, dtype: int64\n"
     ]
    },
    {
     "data": {
      "image/png": "[encoded data removed]",
      "text/plain": [
       "<Figure size 432x288 with 1 Axes>"
      ]
     },
     "metadata": {
      "needs_background": "light"
     },
     "output_type": "display_data"
    },
    {
     "name": "stdout",
     "output_type": "stream",
     "text": [
      "-------------------------\n",
      "Yes    398\n",
      "No     213\n",
      "NA       3\n",
      "Name: Married, dtype: int64\n"
     ]
    },
    {
     "data": {
      "image/png": "[encoded data removed]",
      "text/plain": [
       "<Figure size 432x288 with 1 Axes>"
      ]
     },
     "metadata": {
      "needs_background": "light"
     },
     "output_type": "display_data"
    },
    {
     "name": "stdout",
     "output_type": "stream",
     "text": [
      "-------------------------\n",
      "0     345\n",
      "1     102\n",
      "2     101\n",
      "3+     51\n",
      "NA     15\n",
      "Name: Dependents, dtype: int64\n"
     ]
    },
    {
     "data": {
      "image/png": "[encoded data removed]",
      "text/plain": [
       "<Figure size 432x288 with 1 Axes>"
      ]
     },
     "metadata": {
      "needs_background": "light"
     },
     "output_type": "display_data"
    },
    {
     "name": "stdout",
     "output_type": "stream",
     "text": [
      "-------------------------\n",
      "Graduate        480\n",
      "Not Graduate    134\n",
      "Name: Education, dtype: int64\n"
     ]
    },
    {
     "data": {
      "image/png": "[encoded data removed]",
      "text/plain": [
       "<Figure size 432x288 with 1 Axes>"
      ]
     },
     "metadata": {
      "needs_background": "light"
     },
     "output_type": "display_data"
    },
    {
     "name": "stdout",
     "output_type": "stream",
     "text": [
      "-------------------------\n",
      "No     500\n",
      "Yes     82\n",
      "NA      32\n",
      "Name: Self_Employed, dtype: int64\n"
     ]
    },
    {
     "data": {
      "image/png": "[encoded data removed]",
      "text/plain": [
       "<Figure size 432x288 with 1 Axes>"
      ]
     },
     "metadata": {
      "needs_background": "light"
     },
     "output_type": "display_data"
    },
    {
     "name": "stdout",
     "output_type": "stream",
     "text": [
      "-------------------------\n",
      "1.0    475\n",
      "0.0     89\n",
      "NA      50\n",
      "Name: Credit_History, dtype: int64\n"
     ]
    },
    {
     "data": {
      "image/png": "[encoded data removed]",
      "text/plain": [
       "<Figure size 432x288 with 1 Axes>"
      ]
     },
     "metadata": {
      "needs_background": "light"
     },
     "output_type": "display_data"
    },
    {
     "name": "stdout",
     "output_type": "stream",
     "text": [
      "-------------------------\n",
      "Semiurban    233\n",
      "Urban        202\n",
      "Rural        179\n",
      "Name: Property_Area, dtype: int64\n"
     ]
    },
    {
     "data": {
      "image/png": "[encoded data removed]",
      "text/plain": [
       "<Figure size 432x288 with 1 Axes>"
      ]
     },
     "metadata": {
      "needs_background": "light"
     },
     "output_type": "display_data"
    },
    {
     "name": "stdout",
     "output_type": "stream",
     "text": [
      "-------------------------\n",
      "Y    422\n",
      "N    192\n",
      "Name: Loan_Status, dtype: int64\n"
     ]
    },
    {
     "data": {
      "image/png": "[encoded data removed]",
      "text/plain": [
       "<Figure size 432x288 with 1 Axes>"
      ]
     },
     "metadata": {
      "needs_background": "light"
     },
     "output_type": "display_data"
    },
    {
     "name": "stdout",
     "output_type": "stream",
     "text": [
      "-------------------------\n"
     ]
    }
   ],
   "source": [
    "for col in ['Gender','Married','Dependents','Education',\n",
    "            'Self_Employed','Credit_History','Property_Area','Loan_Status']:\n",
    "    print(train[col].fillna('NA').value_counts())\n",
    "    sns.countplot(x=col, data=train.fillna('NA'))\n",
    "    plt.show()\n",
    "    print('-'*25)"
   ]
  },
  {
   "cell_type": "markdown",
   "metadata": {},
   "source": [
    "## Classify"
   ]
  },
  {
   "cell_type": "markdown",
   "metadata": {},
   "source": [
    "Get features x and labels y"
   ]
  },
  {
   "cell_type": "code",
   "execution_count": 11,
   "metadata": {},
   "outputs": [
    {
     "ename": "ValueError",
     "evalue": "Expected 2D array, got 1D array instead:\narray=[ 5849.  4583.  3000.  2583.  6000.  5417.  2333.  3036.  4006. 12841.\n  3200.  2500.  3073.  1853.  1299.  4950.  3596.  3510.  4887.  2600.\n  7660.  5955.  2600.  3365.  3717.  9560.  2799.  4226.  1442.  3750.\n  4166.  3167.  4692.  3500. 12500.  2275.  1828.  3667.  4166.  3748.\n  3600.  1800.  2400.  3941.  4695.  3410.  5649.  5821.  2645.  4000.\n  1928.  3086.  4230.  4616. 11500.  2708.  2132.  3366.  8080.  3357.\n  2500.  3029.  2609.  4945.  4166.  5726.  3200. 10750.  7100.  4300.\n  3208.  1875.  3500.  4755.  5266.  3750.  3750.  1000.  3167.  3333.\n  3846.  2395.  1378.  6000.  3988.  2366.  3333.  2500.  8566.  5695.\n  2958.  6250.  3273.  4133.  3620.  6782.  2484.  1977.  4188.  1759.\n  4288.  4843. 13650.  4652.  3816.  3052. 11417.  7333.  3800.  2071.\n  5316.  2929.  3572.  7451.  5050. 14583.  3167.  2214.  5568. 10408.\n  5667.  4166.  2137.  2957.  4300.  3692. 23803.  3865. 10513.  6080.\n 20166.  2014.  2718.  3459.  4895.  4000.  4583.  3316. 14999.  4200.\n  5042.  5417.  6950.  2698. 11757.  2330. 14866.  1538. 10000.  4860.\n  6277.  2577.  9166.  2281.  3254. 39999.  6000.  9538.  2980.  4583.\n  1863.  7933.  3089.  4167.  9323.  3707.  4583.  2439.  2237.  8000.\n  1820. 51763.  3522.  5708.  4344.  3497.  2045.  5516.  3750.  2333.\n  6400.  1916.  4600. 33846.  3625. 39147.  2178.  2383.   674.  9328.\n  4885. 12000.  6033.  3858.  4191.  3125.  8333.  1907.  3416. 11000.\n  2600.  4923.  3992.  3500.  3917.  4408.  3244.  3975.  2479.  3418.\n 10000.  3430.  7787.  5703.  3173.  3850.   150.  3727.  5000.  4283.\n  2221.  4009.  2971.  7578.  6250.  3250.  4735.  6250.  4758.  6400.\n  2491.  3716.  3189.  8333.  3155.  5500.  5746.  3463.  3812.  3315.\n  5819.  2510.  2965.  6250.  3406.  6050.  9703.  6608.  2882.  1809.\n  1668.  3427.  2583.  2661. 16250.  3083.  6045.  5250. 14683.  4931.\n  6083.  2060.  3481.  7200.  5166.  4095.  4708.  4333.  3418.  2876.\n  3237. 11146.  2833.  2620.  3900.  2750.  3993.  3103. 14583.  4100.\n  4053.  3927.  2301.  1811. 20667.  3158.  2600.  3704.  4124.  9508.\n  3075.  4400.  3153.  5417.  2383.  4416.  6875.  4666.  5000.  2014.\n  1800.  2875.  5000.  1625.  4000.  2000.  3762.  2400. 20233.  7667.\n  2917.  2927.  2507.  5746.  2473.  3399.  3717.  2058.  3541. 10000.\n  2400.  4342.  3601.  3166. 15000.  8666.  4917.  5818.  4333.  2500.\n  4384.  2935.  2833. 63337.  9833.  5503.  5250.  2500.  1830.  4160.\n  2647.  2378.  4554.  3173.  2583.  2499.  3523.  3083.  6333.  2625.\n  9083.  8750.  2666.  5500.  2423.  3813.  8333.  3875.  3000.  5167.\n  4723.  5000.  4750.  3013.  6822.  6216.  2500.  5124.  6325. 19730.\n 15759.  5185.  9323.  3062.  2764.  4817.  8750.  4310.  3069.  5391.\n  3333.  5941.  6000.  7167.  4566.  3667.  2346.  3010.  2333.  5488.\n  9167.  9504.  2583.  1993.  3100.  3276.  3180.  3033.  3902.  1500.\n  2889.  2755.  2500.  1963.  7441.  4547.  2167.  2213.  8300. 81000.\n  3867.  6256.  6096.  2253.  2149.  2995.  2600.  1600.  1025.  3246.\n  5829.  2720.  1820.  7250. 14880.  2666.  4606.  5935.  2920.  2717.\n  8624.  6500. 12876.  2425.  3750. 10047.  1926.  2213. 10416.  7142.\n  3660.  7901.  4707. 37719.  7333.  3466.  4652.  3539.  3340.  2769.\n  2309.  1958.  3948.  2483.  7085.  3859.  4301.  3708.  4354.  8334.\n  2083.  7740.  3015.  5191.  4166.  6000.  2947. 16692.   210.  4333.\n  3450.  2653.  4691.  2500.  5532. 16525.  6700.  2873. 16667.  2947.\n  4350.  3095.  2083. 10833.  8333.  1958.  3547. 18333.  4583.  2435.\n  2699.  5333.  3691. 17263.  3597.  3326.  2600.  4625.  2895.  6283.\n   645.  3159.  4865.  4050.  3814.  3510. 20833.  3583.  2479. 13262.\n  3598.  6065.  3283.  2130.  5815.  3466.  2031.  3074.  4683.  3400.\n  2192.  2500.  5677.  7948.  4680. 17500.  3775.  5285.  2679.  6783.\n  1025.  4281.  3588. 11250. 18165.  2550.  6133.  3617.  2917.  6417.\n  4608.  2138.  3652.  2239.  3017.  2768.  3358.  2526.  5000.  2785.\n  6633.  2492.  3333.  2454.  3593.  5468.  2667. 10139.  3887.  4180.\n  3675. 19484.  5923.  5800.  8799.  4467.  3333.  3400.  2378.  3166.\n  3417.  5116. 16666.  6125.  6406.  3159.  3087.  3229.  1782.  3182.\n  6540.  1836.  3166.  1880.  2787.  4283.  2297.  2165.  4750.  2726.\n  3000.  6000.  9357.  3859. 16120.  3833.  6383.  2987.  9963.  5780.\n   416.  2894.  5703.  3676. 12000.  2400.  3400.  3987.  3232.  2900.\n  4106.  8072.  7583.  4583.].\nReshape your data either using array.reshape(-1, 1) if your data has a single feature or array.reshape(1, -1) if it contains a single sample.",
     "output_type": "error",
     "traceback": [
      "\u001b[0;31m---------------------------------------------------------------------------\u001b[0m",
      "\u001b[0;31mValueError\u001b[0m                                Traceback (most recent call last)",
      "\u001b[0;32m<ipython-input-11-cc4975aa22e0>\u001b[0m in \u001b[0;36m<module>\u001b[0;34m\u001b[0m\n\u001b[1;32m      4\u001b[0m     \u001b[0mtrain\u001b[0m\u001b[0;34m[\u001b[0m\u001b[0mcol\u001b[0m\u001b[0;34m]\u001b[0m\u001b[0;34m.\u001b[0m\u001b[0mfillna\u001b[0m\u001b[0;34m(\u001b[0m\u001b[0;36m0\u001b[0m\u001b[0;34m,\u001b[0m \u001b[0minplace\u001b[0m\u001b[0;34m=\u001b[0m\u001b[0;32mTrue\u001b[0m\u001b[0;34m)\u001b[0m\u001b[0;34m\u001b[0m\u001b[0;34m\u001b[0m\u001b[0m\n\u001b[1;32m      5\u001b[0m     \u001b[0mtest\u001b[0m\u001b[0;34m[\u001b[0m\u001b[0mcol\u001b[0m\u001b[0;34m]\u001b[0m\u001b[0;34m.\u001b[0m\u001b[0mfillna\u001b[0m\u001b[0;34m(\u001b[0m\u001b[0;36m0\u001b[0m\u001b[0;34m,\u001b[0m \u001b[0minplace\u001b[0m\u001b[0;34m=\u001b[0m\u001b[0;32mTrue\u001b[0m\u001b[0;34m)\u001b[0m\u001b[0;34m\u001b[0m\u001b[0;34m\u001b[0m\u001b[0m\n\u001b[0;32m----> 6\u001b[0;31m     \u001b[0mscaler\u001b[0m \u001b[0;34m=\u001b[0m \u001b[0mStandardScaler\u001b[0m\u001b[0;34m(\u001b[0m\u001b[0;34m)\u001b[0m\u001b[0;34m.\u001b[0m\u001b[0mfit\u001b[0m\u001b[0;34m(\u001b[0m\u001b[0mtrain\u001b[0m\u001b[0;34m[\u001b[0m\u001b[0mcol\u001b[0m\u001b[0;34m]\u001b[0m\u001b[0;34m)\u001b[0m\u001b[0;34m\u001b[0m\u001b[0;34m\u001b[0m\u001b[0m\n\u001b[0m\u001b[1;32m      7\u001b[0m     \u001b[0mtrain\u001b[0m\u001b[0;34m[\u001b[0m\u001b[0mcol\u001b[0m\u001b[0;34m]\u001b[0m \u001b[0;34m=\u001b[0m \u001b[0mscaler\u001b[0m\u001b[0;34m.\u001b[0m\u001b[0mtransform\u001b[0m\u001b[0;34m(\u001b[0m\u001b[0mtrain\u001b[0m\u001b[0;34m[\u001b[0m\u001b[0mcol\u001b[0m\u001b[0;34m]\u001b[0m\u001b[0;34m)\u001b[0m\u001b[0;34m\u001b[0m\u001b[0;34m\u001b[0m\u001b[0m\n\u001b[1;32m      8\u001b[0m     \u001b[0mtest\u001b[0m\u001b[0;34m[\u001b[0m\u001b[0mcol\u001b[0m\u001b[0;34m]\u001b[0m \u001b[0;34m=\u001b[0m \u001b[0mscaler\u001b[0m\u001b[0;34m.\u001b[0m\u001b[0mtransform\u001b[0m\u001b[0;34m(\u001b[0m\u001b[0mtest\u001b[0m\u001b[0;34m[\u001b[0m\u001b[0mcol\u001b[0m\u001b[0;34m]\u001b[0m\u001b[0;34m)\u001b[0m\u001b[0;34m\u001b[0m\u001b[0;34m\u001b[0m\u001b[0m\n",
      "\u001b[0;32m~/.local/lib/python3.6/site-packages/sklearn/preprocessing/data.py\u001b[0m in \u001b[0;36mfit\u001b[0;34m(self, X, y)\u001b[0m\n\u001b[1;32m    637\u001b[0m         \u001b[0;31m# Reset internal state before fitting\u001b[0m\u001b[0;34m\u001b[0m\u001b[0;34m\u001b[0m\u001b[0;34m\u001b[0m\u001b[0m\n\u001b[1;32m    638\u001b[0m         \u001b[0mself\u001b[0m\u001b[0;34m.\u001b[0m\u001b[0m_reset\u001b[0m\u001b[0;34m(\u001b[0m\u001b[0;34m)\u001b[0m\u001b[0;34m\u001b[0m\u001b[0;34m\u001b[0m\u001b[0m\n\u001b[0;32m--> 639\u001b[0;31m         \u001b[0;32mreturn\u001b[0m \u001b[0mself\u001b[0m\u001b[0;34m.\u001b[0m\u001b[0mpartial_fit\u001b[0m\u001b[0;34m(\u001b[0m\u001b[0mX\u001b[0m\u001b[0;34m,\u001b[0m \u001b[0my\u001b[0m\u001b[0;34m)\u001b[0m\u001b[0;34m\u001b[0m\u001b[0;34m\u001b[0m\u001b[0m\n\u001b[0m\u001b[1;32m    640\u001b[0m \u001b[0;34m\u001b[0m\u001b[0m\n\u001b[1;32m    641\u001b[0m     \u001b[0;32mdef\u001b[0m \u001b[0mpartial_fit\u001b[0m\u001b[0;34m(\u001b[0m\u001b[0mself\u001b[0m\u001b[0;34m,\u001b[0m \u001b[0mX\u001b[0m\u001b[0;34m,\u001b[0m \u001b[0my\u001b[0m\u001b[0;34m=\u001b[0m\u001b[0;32mNone\u001b[0m\u001b[0;34m)\u001b[0m\u001b[0;34m:\u001b[0m\u001b[0;34m\u001b[0m\u001b[0;34m\u001b[0m\u001b[0m\n",
      "\u001b[0;32m~/.local/lib/python3.6/site-packages/sklearn/preprocessing/data.py\u001b[0m in \u001b[0;36mpartial_fit\u001b[0;34m(self, X, y)\u001b[0m\n\u001b[1;32m    661\u001b[0m         X = check_array(X, accept_sparse=('csr', 'csc'), copy=self.copy,\n\u001b[1;32m    662\u001b[0m                         \u001b[0mestimator\u001b[0m\u001b[0;34m=\u001b[0m\u001b[0mself\u001b[0m\u001b[0;34m,\u001b[0m \u001b[0mdtype\u001b[0m\u001b[0;34m=\u001b[0m\u001b[0mFLOAT_DTYPES\u001b[0m\u001b[0;34m,\u001b[0m\u001b[0;34m\u001b[0m\u001b[0;34m\u001b[0m\u001b[0m\n\u001b[0;32m--> 663\u001b[0;31m                         force_all_finite='allow-nan')\n\u001b[0m\u001b[1;32m    664\u001b[0m \u001b[0;34m\u001b[0m\u001b[0m\n\u001b[1;32m    665\u001b[0m         \u001b[0;31m# Even in the case of `with_mean=False`, we update the mean anyway\u001b[0m\u001b[0;34m\u001b[0m\u001b[0;34m\u001b[0m\u001b[0;34m\u001b[0m\u001b[0m\n",
      "\u001b[0;32m~/.local/lib/python3.6/site-packages/sklearn/utils/validation.py\u001b[0m in \u001b[0;36mcheck_array\u001b[0;34m(array, accept_sparse, accept_large_sparse, dtype, order, copy, force_all_finite, ensure_2d, allow_nd, ensure_min_samples, ensure_min_features, warn_on_dtype, estimator)\u001b[0m\n\u001b[1;32m    519\u001b[0m                     \u001b[0;34m\"Reshape your data either using array.reshape(-1, 1) if \"\u001b[0m\u001b[0;34m\u001b[0m\u001b[0;34m\u001b[0m\u001b[0m\n\u001b[1;32m    520\u001b[0m                     \u001b[0;34m\"your data has a single feature or array.reshape(1, -1) \"\u001b[0m\u001b[0;34m\u001b[0m\u001b[0;34m\u001b[0m\u001b[0m\n\u001b[0;32m--> 521\u001b[0;31m                     \"if it contains a single sample.\".format(array))\n\u001b[0m\u001b[1;32m    522\u001b[0m \u001b[0;34m\u001b[0m\u001b[0m\n\u001b[1;32m    523\u001b[0m         \u001b[0;31m# in the future np.flexible dtypes will be handled like object dtypes\u001b[0m\u001b[0;34m\u001b[0m\u001b[0;34m\u001b[0m\u001b[0;34m\u001b[0m\u001b[0m\n",
      "\u001b[0;31mValueError\u001b[0m: Expected 2D array, got 1D array instead:\narray=[ 5849.  4583.  3000.  2583.  6000.  5417.  2333.  3036.  4006. 12841.\n  3200.  2500.  3073.  1853.  1299.  4950.  3596.  3510.  4887.  2600.\n  7660.  5955.  2600.  3365.  3717.  9560.  2799.  4226.  1442.  3750.\n  4166.  3167.  4692.  3500. 12500.  2275.  1828.  3667.  4166.  3748.\n  3600.  1800.  2400.  3941.  4695.  3410.  5649.  5821.  2645.  4000.\n  1928.  3086.  4230.  4616. 11500.  2708.  2132.  3366.  8080.  3357.\n  2500.  3029.  2609.  4945.  4166.  5726.  3200. 10750.  7100.  4300.\n  3208.  1875.  3500.  4755.  5266.  3750.  3750.  1000.  3167.  3333.\n  3846.  2395.  1378.  6000.  3988.  2366.  3333.  2500.  8566.  5695.\n  2958.  6250.  3273.  4133.  3620.  6782.  2484.  1977.  4188.  1759.\n  4288.  4843. 13650.  4652.  3816.  3052. 11417.  7333.  3800.  2071.\n  5316.  2929.  3572.  7451.  5050. 14583.  3167.  2214.  5568. 10408.\n  5667.  4166.  2137.  2957.  4300.  3692. 23803.  3865. 10513.  6080.\n 20166.  2014.  2718.  3459.  4895.  4000.  4583.  3316. 14999.  4200.\n  5042.  5417.  6950.  2698. 11757.  2330. 14866.  1538. 10000.  4860.\n  6277.  2577.  9166.  2281.  3254. 39999.  6000.  9538.  2980.  4583.\n  1863.  7933.  3089.  4167.  9323.  3707.  4583.  2439.  2237.  8000.\n  1820. 51763.  3522.  5708.  4344.  3497.  2045.  5516.  3750.  2333.\n  6400.  1916.  4600. 33846.  3625. 39147.  2178.  2383.   674.  9328.\n  4885. 12000.  6033.  3858.  4191.  3125.  8333.  1907.  3416. 11000.\n  2600.  4923.  3992.  3500.  3917.  4408.  3244.  3975.  2479.  3418.\n 10000.  3430.  7787.  5703.  3173.  3850.   150.  3727.  5000.  4283.\n  2221.  4009.  2971.  7578.  6250.  3250.  4735.  6250.  4758.  6400.\n  2491.  3716.  3189.  8333.  3155.  5500.  5746.  3463.  3812.  3315.\n  5819.  2510.  2965.  6250.  3406.  6050.  9703.  6608.  2882.  1809.\n  1668.  3427.  2583.  2661. 16250.  3083.  6045.  5250. 14683.  4931.\n  6083.  2060.  3481.  7200.  5166.  4095.  4708.  4333.  3418.  2876.\n  3237. 11146.  2833.  2620.  3900.  2750.  3993.  3103. 14583.  4100.\n  4053.  3927.  2301.  1811. 20667.  3158.  2600.  3704.  4124.  9508.\n  3075.  4400.  3153.  5417.  2383.  4416.  6875.  4666.  5000.  2014.\n  1800.  2875.  5000.  1625.  4000.  2000.  3762.  2400. 20233.  7667.\n  2917.  2927.  2507.  5746.  2473.  3399.  3717.  2058.  3541. 10000.\n  2400.  4342.  3601.  3166. 15000.  8666.  4917.  5818.  4333.  2500.\n  4384.  2935.  2833. 63337.  9833.  5503.  5250.  2500.  1830.  4160.\n  2647.  2378.  4554.  3173.  2583.  2499.  3523.  3083.  6333.  2625.\n  9083.  8750.  2666.  5500.  2423.  3813.  8333.  3875.  3000.  5167.\n  4723.  5000.  4750.  3013.  6822.  6216.  2500.  5124.  6325. 19730.\n 15759.  5185.  9323.  3062.  2764.  4817.  8750.  4310.  3069.  5391.\n  3333.  5941.  6000.  7167.  4566.  3667.  2346.  3010.  2333.  5488.\n  9167.  9504.  2583.  1993.  3100.  3276.  3180.  3033.  3902.  1500.\n  2889.  2755.  2500.  1963.  7441.  4547.  2167.  2213.  8300. 81000.\n  3867.  6256.  6096.  2253.  2149.  2995.  2600.  1600.  1025.  3246.\n  5829.  2720.  1820.  7250. 14880.  2666.  4606.  5935.  2920.  2717.\n  8624.  6500. 12876.  2425.  3750. 10047.  1926.  2213. 10416.  7142.\n  3660.  7901.  4707. 37719.  7333.  3466.  4652.  3539.  3340.  2769.\n  2309.  1958.  3948.  2483.  7085.  3859.  4301.  3708.  4354.  8334.\n  2083.  7740.  3015.  5191.  4166.  6000.  2947. 16692.   210.  4333.\n  3450.  2653.  4691.  2500.  5532. 16525.  6700.  2873. 16667.  2947.\n  4350.  3095.  2083. 10833.  8333.  1958.  3547. 18333.  4583.  2435.\n  2699.  5333.  3691. 17263.  3597.  3326.  2600.  4625.  2895.  6283.\n   645.  3159.  4865.  4050.  3814.  3510. 20833.  3583.  2479. 13262.\n  3598.  6065.  3283.  2130.  5815.  3466.  2031.  3074.  4683.  3400.\n  2192.  2500.  5677.  7948.  4680. 17500.  3775.  5285.  2679.  6783.\n  1025.  4281.  3588. 11250. 18165.  2550.  6133.  3617.  2917.  6417.\n  4608.  2138.  3652.  2239.  3017.  2768.  3358.  2526.  5000.  2785.\n  6633.  2492.  3333.  2454.  3593.  5468.  2667. 10139.  3887.  4180.\n  3675. 19484.  5923.  5800.  8799.  4467.  3333.  3400.  2378.  3166.\n  3417.  5116. 16666.  6125.  6406.  3159.  3087.  3229.  1782.  3182.\n  6540.  1836.  3166.  1880.  2787.  4283.  2297.  2165.  4750.  2726.\n  3000.  6000.  9357.  3859. 16120.  3833.  6383.  2987.  9963.  5780.\n   416.  2894.  5703.  3676. 12000.  2400.  3400.  3987.  3232.  2900.\n  4106.  8072.  7583.  4583.].\nReshape your data either using array.reshape(-1, 1) if your data has a single feature or array.reshape(1, -1) if it contains a single sample."
     ]
    }
   ],
   "source": [
    "## Fill missing values\n",
    "for col in ['ApplicantIncome', 'CoapplicantIncome',\n",
    "            'LoanAmount', 'Loan_Amount_Term']:\n",
    "    train[col].fillna(0, inplace=True)\n",
    "    test[col].fillna(0, inplace=True)\n",
    "    \n",
    "train['Credit_History'].fillna(2, inplace=True)\n",
    "test['Credit_History'].fillna(2, inplace=True)\n",
    "\n",
    "train.fillna('NA', inplace=True)\n",
    "test.fillna('NA', inplace=True)"
   ]
  },
  {
   "cell_type": "code",
   "execution_count": null,
   "metadata": {},
   "outputs": [],
   "source": [
    "## Encode labels\n",
    "for col in ['Gender','Married','Dependents','Education',\n",
    "            'Self_Employed','Property_Area']:\n",
    "    le = LabelEncoder().fit(train[col])\n",
    "    train[col] = le.transform(train[col])\n",
    "    test[col] = le.transform(test[col])\n",
    "\n",
    "le = LabelEncoder().fit(train['Loan_Status'])\n",
    "train['Loan_Status'] = le.transform(train['Loan_Status'])\n",
    "train.head()"
   ]
  },
  {
   "cell_type": "code",
   "execution_count": null,
   "metadata": {},
   "outputs": [],
   "source": [
    "## Get training, validation, test\n",
    "x = train.iloc[:, 1:12].to_numpy()\n",
    "y = train['Loan_Status'].to_numpy()\n",
    "x_test = test.iloc[:, 1:12].to_numpy()\n",
    "\n",
    "# Scale \n",
    "scaler = StandardScaler().fit(x[:, 5:9])\n",
    "x[:, 5:9] = scaler.transform(x[:, 5:9])\n",
    "x_test[:, 5:9] = scaler.transform(x_test[:, 5:9])\n",
    "\n",
    "# split training & validation\n",
    "x_train, x_valid, y_train, y_valid = train_test_split(x, y, test_size=0.2)"
   ]
  },
  {
   "cell_type": "markdown",
   "metadata": {},
   "source": [
    "### SVC"
   ]
  },
  {
   "cell_type": "code",
   "execution_count": null,
   "metadata": {},
   "outputs": [],
   "source": [
    "svc = SVC().fit(x_train, y_train)\n",
    "\n",
    "y_valid_pred = svc.predict(x_valid)\n",
    "svc_acc = accuracy_score(y_valid, y_valid_pred)\n",
    "print(classification_report(y_valid, y_valid_pred))"
   ]
  },
  {
   "cell_type": "code",
   "execution_count": null,
   "metadata": {},
   "outputs": [],
   "source": []
  }
 ],
 "metadata": {
  "kernelspec": {
   "display_name": "Python 3",
   "language": "python",
   "name": "python3"
  },
  "language_info": {
   "codemirror_mode": {
    "name": "ipython",
    "version": 3
   },
   "file_extension": ".py",
   "mimetype": "text/x-python",
   "name": "python",
   "nbconvert_exporter": "python",
   "pygments_lexer": "ipython3",
   "version": "3.6.9"
  }
 },
 "nbformat": 4,
 "nbformat_minor": 2
}
